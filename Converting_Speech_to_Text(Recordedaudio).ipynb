{
 "cells": [
  {
   "cell_type": "code",
   "execution_count": 1,
   "id": "28f9c92e",
   "metadata": {},
   "outputs": [
    {
     "name": "stdout",
     "output_type": "stream",
     "text": [
      "result2:\n",
      "{   'alternative': [   {   'confidence': 0.83933216,\n",
      "                           'transcript': 'the still smell old beer drinkers it '\n",
      "                                         'takes hi to bring out the order I '\n",
      "                                         'called up restore It helped him that '\n",
      "                                         'a selfie kotess find him because of '\n",
      "                                         'my favourite is just for food is '\n",
      "                                         'Bihar trust ban'},\n",
      "                       {   'transcript': 'the still smell old beer drinkers it '\n",
      "                                         'takes hi to bring up the older I '\n",
      "                                         'called up restore It helped him that '\n",
      "                                         'a selfie kotess find him because of '\n",
      "                                         'my favourite is just for food is '\n",
      "                                         'Bihar trust ban'},\n",
      "                       {   'transcript': 'the still smell old beer drinkers it '\n",
      "                                         'takes hi to bring out the older I '\n",
      "                                         'called up restore It helped him that '\n",
      "                                         'a selfie kotess find him because of '\n",
      "                                         'my favourite is just for food is '\n",
      "                                         'Bihar trust ban'},\n",
      "                       {   'transcript': 'the still smell old beer drinkers it '\n",
      "                                         'takes hi to bring up the order I '\n",
      "                                         'called up restore It helped him that '\n",
      "                                         'a selfie kotess find him because of '\n",
      "                                         'my favourite is just for food is '\n",
      "                                         'Bihar trust ban'},\n",
      "                       {   'transcript': 'the still smell old beer drinkers it '\n",
      "                                         'takes hi to bring up the older I '\n",
      "                                         'call dip research helps in that a '\n",
      "                                         'selfie kotess find him because of my '\n",
      "                                         'favourite is just for food is Bihar '\n",
      "                                         'trust ban'}],\n",
      "    'final': True}\n",
      "Converting audio transcripts into text ...\n",
      "the still smell old beer drinkers it takes hi to bring out the order I called up restore It helped him that a selfie kotess find him because of my favourite is just for food is Bihar trust ban\n"
     ]
    }
   ],
   "source": [
    "#import library\n",
    "import speech_recognition as sr\n",
    "\n",
    "# Initialize recognizer class (for recognizing the speech)\n",
    "r = sr.Recognizer()\n",
    "\n",
    "# Reading Audio file as source\n",
    "# listening the audio file and store in audio_text variable\n",
    "\n",
    "with sr.AudioFile('audio_files_harvard.wav') as source:\n",
    "    \n",
    "    audio_text = r.listen(source)\n",
    "    \n",
    "# recoginize_() method will throw a request error if the API is unreachable, hence using exception handling\n",
    "    try:\n",
    "        \n",
    "        # using google speech recognition\n",
    "        text = r.recognize_google(audio_text)\n",
    "        print('Converting audio transcripts into text ...')\n",
    "        print(text)\n",
    "     \n",
    "    except:\n",
    "         print('Sorry.. run again...')"
   ]
  }
 ],
 "metadata": {
  "kernelspec": {
   "display_name": "Python 3 (ipykernel)",
   "language": "python",
   "name": "python3"
  },
  "language_info": {
   "codemirror_mode": {
    "name": "ipython",
    "version": 3
   },
   "file_extension": ".py",
   "mimetype": "text/x-python",
   "name": "python",
   "nbconvert_exporter": "python",
   "pygments_lexer": "ipython3",
   "version": "3.9.13"
  }
 },
 "nbformat": 4,
 "nbformat_minor": 5
}

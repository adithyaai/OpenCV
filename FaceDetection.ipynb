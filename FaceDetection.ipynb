{
 "cells": [
  {
   "cell_type": "code",
   "execution_count": 1,
   "id": "a1a9af68",
   "metadata": {},
   "outputs": [],
   "source": [
    "import cv2 as cv"
   ]
  },
  {
   "cell_type": "code",
   "execution_count": 2,
   "id": "dfa5904e",
   "metadata": {},
   "outputs": [],
   "source": [
    "img=cv.imread('group 1.jpg')\n",
    "cv.imshow('Persons',img)\n"
   ]
  },
  {
   "cell_type": "code",
   "execution_count": 3,
   "id": "ad8d39fa",
   "metadata": {},
   "outputs": [],
   "source": [
    "gray=cv.cvtColor(img,cv.COLOR_BGR2GRAY)\n",
    "cv.imshow('GrayPerson',gray)"
   ]
  },
  {
   "cell_type": "code",
   "execution_count": 4,
   "id": "65091e45",
   "metadata": {},
   "outputs": [],
   "source": [
    "haar_cascade=cv.CascadeClassifier('haar_face.xml')\n"
   ]
  },
  {
   "cell_type": "code",
   "execution_count": 5,
   "id": "10c9772c",
   "metadata": {},
   "outputs": [],
   "source": [
    "faces_rect=haar_cascade.detectMultiScale(gray,scaleFactor=1.1,minNeighbors=1)"
   ]
  },
  {
   "cell_type": "code",
   "execution_count": 6,
   "id": "1561823d",
   "metadata": {},
   "outputs": [
    {
     "data": {
      "text/plain": [
       "19"
      ]
     },
     "execution_count": 6,
     "metadata": {},
     "output_type": "execute_result"
    }
   ],
   "source": [
    "len(faces_rect)"
   ]
  },
  {
   "cell_type": "code",
   "execution_count": 7,
   "id": "58743f2d",
   "metadata": {},
   "outputs": [],
   "source": [
    "for(x,y,w,h) in faces_rect:\n",
    "    cv.rectangle(img,(x,y),(x+w,y+h),(0,255,0),thickness=2)"
   ]
  },
  {
   "cell_type": "code",
   "execution_count": 8,
   "id": "4cbade99",
   "metadata": {},
   "outputs": [],
   "source": [
    "cv.imshow('Detected Faces',img)"
   ]
  },
  {
   "cell_type": "code",
   "execution_count": 9,
   "id": "64034077",
   "metadata": {},
   "outputs": [
    {
     "data": {
      "text/plain": [
       "13"
      ]
     },
     "execution_count": 9,
     "metadata": {},
     "output_type": "execute_result"
    }
   ],
   "source": [
    "cv.waitKey(0)\n"
   ]
  },
  {
   "cell_type": "code",
   "execution_count": null,
   "id": "bd0e712b",
   "metadata": {},
   "outputs": [],
   "source": []
  }
 ],
 "metadata": {
  "kernelspec": {
   "display_name": "Python 3 (ipykernel)",
   "language": "python",
   "name": "python3"
  },
  "language_info": {
   "codemirror_mode": {
    "name": "ipython",
    "version": 3
   },
   "file_extension": ".py",
   "mimetype": "text/x-python",
   "name": "python",
   "nbconvert_exporter": "python",
   "pygments_lexer": "ipython3",
   "version": "3.9.13"
  }
 },
 "nbformat": 4,
 "nbformat_minor": 5
}
